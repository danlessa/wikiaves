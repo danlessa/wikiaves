{
 "cells": [
  {
   "cell_type": "markdown",
   "metadata": {},
   "source": [
    "# Wikiaves Registry Scraper\n",
    "\n",
    "Author: Danilo Lessa Bernardineli (danilo.bernardineli@usp.br)\n",
    "\n",
    "This is an notebook for retrieving all info in an given registries range. If used properly, you can use it for scraping all the Wikiaves.\n",
    "\n",
    "I use here an simple form of parallelization through pandarallel, which can increase the scraping speed in an factor of 5-20x."
   ]
  },
  {
   "cell_type": "code",
   "execution_count": 3,
   "metadata": {},
   "outputs": [],
   "source": [
    "# Dependences\n",
    "\n",
    "import requests as req\n",
    "import json\n",
    "import pandas as pd\n",
    "import numpy as np\n",
    "import random\n",
    "from pandarallel import pandarallel\n",
    "from bs4 import BeautifulSoup\n",
    "import time\n",
    "from tqdm import tqdm"
   ]
  },
  {
   "cell_type": "code",
   "execution_count": 4,
   "metadata": {},
   "outputs": [
    {
     "name": "stdout",
     "output_type": "stream",
     "text": [
      "INFO: Pandarallel will run on 4 workers.\n",
      "INFO: Pandarallel will use Memory file system to transfer data between the main process and workers.\n"
     ]
    },
    {
     "name": "stderr",
     "output_type": "stream",
     "text": [
      "/usr/local/lib/python3.7/dist-packages/tqdm/std.py:656: FutureWarning: The Panel class is removed from pandas. Accessing it from the top-level namespace will also be removed in the next version\n",
      "  from pandas import Panel\n"
     ]
    }
   ],
   "source": [
    "# Initialize TQDM and Pandarallel\n",
    "\n",
    "tqdm.pandas()\n",
    "pandarallel.initialize(progress_bar=True)"
   ]
  },
  {
   "cell_type": "code",
   "execution_count": 5,
   "metadata": {},
   "outputs": [],
   "source": [
    "# Scraping parameters\n",
    "\n",
    "min_user_id = 1\n",
    "max_user_id = 10\n",
    "output_path = \"wikiaves_authors_{}-{}.pkl\".format(min_user_id, max_user_id)\n",
    "URI = \"https://www.wikiaves.com.br/getRegistrosJSON.php\"\n",
    "params = {\"tm\": \"f\",\n",
    "  \"t\": \"u\",\n",
    "  \"o\": \"dp\",\n",
    "  \"desc\": 1,\n",
    "  \"p\": 10}\n",
    "\n",
    "#user_ids = pd.Series(random.sample(range(1, max_user_id), 5))\n",
    "user_ids = pd.Series([i for i in range(min_user_id, max_user_id)])\n",
    "\n",
    "# Shuffle\n",
    "user_ids = user_ids.reindex(np.random.permutation(user_ids.index))"
   ]
  },
  {
   "cell_type": "code",
   "execution_count": 6,
   "metadata": {},
   "outputs": [],
   "source": [
    "# Scraping functions\n",
    "\n",
    "def get_user_registries(user_id: int) -> pd.DataFrame:\n",
    "    \"\"\"\n",
    "    Gets an DataFrame containing all observation registries for an\n",
    "    given user_id.\n",
    "    \"\"\"\n",
    "    run_flag = True\n",
    "    pag_num = 1\n",
    "    user_data = []\n",
    "    while run_flag:\n",
    "        params[\"u\"] = user_id\n",
    "        params[\"p\"] = pag_num\n",
    "        r = req.get(URI, params)\n",
    "        try:\n",
    "            raw_data = json.loads(r.text)\n",
    "        except json.JSONDecodeError:\n",
    "            break\n",
    "        pag_data = pd.DataFrame(raw_data[\"registros\"][\"itens\"]).T\n",
    "        if (pag_data.size < 1):\n",
    "            run_flag = False\n",
    "        user_data.append(pag_data)\n",
    "        pag_num += 1\n",
    "    if len(user_data) > 0:\n",
    "        return pd.concat(user_data).assign(user_id=user_id)\n",
    "    else:\n",
    "        return None\n",
    "\n",
    "\n",
    "def get_profile_hometown(profile: str) -> str:\n",
    "    \"\"\"\n",
    "    Gets the author hometown for an given profile identifier.\n",
    "    \"\"\"\n",
    "    profile_URI = \"https://www.wikiaves.com.br/perfil_{}\".format(profile)\n",
    "    r = req.get(profile_URI)\n",
    "    soup = BeautifulSoup(r.text, 'html.parser')\n",
    "    try:\n",
    "        id_municipio = soup.findAll(\"a\", {\"class\": 'm-card-profile__email m-link'})[-1][\"href\"].split(\"?c=\")[-1]\n",
    "    except:\n",
    "        id_municipio = None\n",
    "    return id_municipio"
   ]
  },
  {
   "cell_type": "code",
   "execution_count": 7,
   "metadata": {},
   "outputs": [
    {
     "name": "stderr",
     "output_type": "stream",
     "text": [
      "100%|██████████| 9/9 [02:18<00:00, 15.42s/it]"
     ]
    },
    {
     "name": "stdout",
     "output_type": "stream",
     "text": [
      "138.78598403930664\n"
     ]
    },
    {
     "name": "stderr",
     "output_type": "stream",
     "text": [
      "\n",
      "/usr/lib/python3/dist-packages/ipykernel_launcher.py:2: FutureWarning: Sorting because non-concatenation axis is not aligned. A future version\n",
      "of pandas will change to not sort by default.\n",
      "\n",
      "To accept the future behavior, pass 'sort=False'.\n",
      "\n",
      "To retain the current behavior and silence the warning, pass 'sort=True'.\n",
      "\n",
      "  \n"
     ]
    }
   ],
   "source": [
    "time1 = time.time()\n",
    "data = (pd.concat(user_ids.progress_apply(get_user_registries).tolist())\n",
    "          .set_index(\"user_id\"))\n",
    "time2 = time.time()\n",
    "print(time2 - time1)"
   ]
  },
  {
   "cell_type": "code",
   "execution_count": 11,
   "metadata": {},
   "outputs": [],
   "source": [
    "data.to_pickle(\"temp.pkl\")"
   ]
  },
  {
   "cell_type": "code",
   "execution_count": 8,
   "metadata": {},
   "outputs": [
    {
     "data": {
      "application/vnd.jupyter.widget-view+json": {
       "model_id": "0ba5a4133cc5439e9119635175fbb70a",
       "version_major": 2,
       "version_minor": 0
      },
      "text/plain": [
       "VBox(children=(HBox(children=(IntProgress(value=0, description='0.00%', max=4), Label(value='0 / 4'))), HBox(c…"
      ]
     },
     "metadata": {},
     "output_type": "display_data"
    }
   ],
   "source": [
    "profiles = (pd.DataFrame(data.perfil.unique())\n",
    "              .rename(columns={0: \"perfil\"})\n",
    "              .assign(hometown_ids=lambda series: series.parallel_applymap(get_profile_hometown))\n",
    "              .set_index(\"perfil\"))"
   ]
  },
  {
   "cell_type": "code",
   "execution_count": null,
   "metadata": {},
   "outputs": [],
   "source": [
    "final_data = data.join(profiles, on=\"perfil\")"
   ]
  },
  {
   "cell_type": "code",
   "execution_count": null,
   "metadata": {},
   "outputs": [],
   "source": [
    "#final_data.to_csv(\"wikiaves_authors.csv\n",
    "final_data.to_pickle(output_path)"
   ]
  },
  {
   "cell_type": "code",
   "execution_count": 22,
   "metadata": {},
   "outputs": [
    {
     "name": "stdout",
     "output_type": "stream",
     "text": [
      "oi\n"
     ]
    }
   ],
   "source": [
    "print(\"oi\")"
   ]
  },
  {
   "cell_type": "code",
   "execution_count": 26,
   "metadata": {},
   "outputs": [
    {
     "name": "stdout",
     "output_type": "stream",
     "text": [
      "aaaa\n"
     ]
    }
   ],
   "source": [
    "print(\"aaaa\")"
   ]
  },
  {
   "cell_type": "code",
   "execution_count": null,
   "metadata": {},
   "outputs": [],
   "source": []
  }
 ],
 "metadata": {
  "kernelspec": {
   "display_name": "Python 3",
   "language": "python",
   "name": "python3"
  },
  "language_info": {
   "codemirror_mode": {
    "name": "ipython",
    "version": 3
   },
   "file_extension": ".py",
   "mimetype": "text/x-python",
   "name": "python",
   "nbconvert_exporter": "python",
   "pygments_lexer": "ipython3",
   "version": "3.7.5"
  }
 },
 "nbformat": 4,
 "nbformat_minor": 4
}
