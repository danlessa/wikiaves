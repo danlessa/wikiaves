{
 "cells": [
  {
   "cell_type": "code",
   "execution_count": 1,
   "metadata": {
    "colab": {},
    "colab_type": "code",
    "id": "4IcwwsNOPAqg"
   },
   "outputs": [],
   "source": [
    "import pandas as pd\n",
    "import numpy as np\n",
    "from pathlib import Path\n",
    "from datetime import timedelta\n",
    "import matplotlib.pyplot as plt\n",
    "from pandarallel import pandarallel\n",
    "import time"
   ]
  },
  {
   "cell_type": "code",
   "execution_count": 2,
   "metadata": {
    "colab": {
     "base_uri": "https://localhost:8080/",
     "height": 68
    },
    "colab_type": "code",
    "id": "I0VHPsz7t67H",
    "outputId": "02c9fc12-5380-4655-96ef-863e4bdb6f5d"
   },
   "outputs": [
    {
     "name": "stdout",
     "output_type": "stream",
     "text": [
      "New pandarallel memory created - Size: 1000 MB\n",
      "Pandarallel will run on 24 workers\n"
     ]
    }
   ],
   "source": [
    "pandarallel.initialize(shm_size_mb = 1000)"
   ]
  },
  {
   "cell_type": "code",
   "execution_count": 3,
   "metadata": {},
   "outputs": [],
   "source": [
    "clean_data_path = \"wikiaves_registries.feather\""
   ]
  },
  {
   "cell_type": "code",
   "execution_count": 4,
   "metadata": {
    "colab": {},
    "colab_type": "code",
    "id": "fqMhoTcBkeL0"
   },
   "outputs": [],
   "source": [
    "paths = [\"wikiaves_authors_1-10000.pkl\",\n",
    "         \"wikiaves_authors_10000-20000.pkl\",\n",
    "         \"wikiaves_authors_20000-30000.pkl\",\n",
    "         \"wikiaves_authors_30001-36809.pkl\"\n",
    "        ]\n",
    "\n",
    "raw_data_list = []\n",
    "for path in paths:\n",
    "  raw_data_list.append(pd.read_pickle(path))\n",
    "raw_data = pd.concat(raw_data_list).reset_index()#.drop_duplicates(subset=['id', 'user_id', 'data'])"
   ]
  },
  {
   "cell_type": "code",
   "execution_count": 5,
   "metadata": {
    "colab": {},
    "colab_type": "code",
    "id": "ZVoe1d-mqx27"
   },
   "outputs": [
    {
     "name": "stdout",
     "output_type": "stream",
     "text": [
      "28.0275399684906\n"
     ]
    }
   ],
   "source": [
    "time1 = time.time()\n",
    "drop_cols = ['enviado', 'id_usuario', 'por', 'tipo']\n",
    "\n",
    "rename_map = {\"user_id\": \"author_id\",\n",
    "              \"autor\": \"author_name\",\n",
    "              \"coms\": \"comment_count\",\n",
    "              \"data\": \"registry_date\",\n",
    "              \"grande\": \"is_large\",\n",
    "              \"id\": \"registry_id\",\n",
    "              \"idMunicipio\": \"location_id\",\n",
    "              \"is_questionada\": \"is_flagged\",\n",
    "              \"likes\": \"like_count\",\n",
    "              \"link\": \"registry_link\",\n",
    "              \"local\": \"location_name\",\n",
    "              \"perfil\": \"profile_name\",\n",
    "              \"vis\": \"views_count\",\n",
    "              \"hometown_ids\": \"home_location_id\",\n",
    "             }\n",
    "\n",
    "clean_data = (raw_data#.sample(10000)\n",
    "                  .assign(autor=lambda df: pd.Categorical(df['autor']))\n",
    "                  .assign(coms=lambda df: pd.to_numeric(df['coms']))\n",
    "                  .assign(data=lambda df: pd.to_datetime(df['data'], format='%d/%m/%Y', errors='coerce'))\n",
    "                  .assign(grande=lambda df: df['grande'].astype(str) == \"T\")\n",
    "                  .assign(id=lambda df: pd.to_numeric(df['id']))\n",
    "                  .assign(idMunicipio=lambda df: pd.to_numeric(df['idMunicipio']))\n",
    "                  .assign(is_questionada=lambda df: df['is_questionada'].astype(bool))\n",
    "                  .assign(likes=lambda df: pd.to_numeric(df['likes']))\n",
    "                  .assign(link=lambda df: df['link'].astype(str))\n",
    "                  .assign(local=lambda df: pd.Categorical(df['local']))\n",
    "                  .assign(perfil=lambda df: pd.Categorical(df['perfil']))\n",
    "                  .assign(vis=lambda df: pd.to_numeric(df['vis']))\n",
    "                  .assign(hometown_ids=lambda df: pd.to_numeric(df['hometown_ids']))\n",
    "                  .rename(columns=rename_map)\n",
    "                  .drop(columns=drop_cols)\n",
    "             )\n",
    "print(time.time() - time1)"
   ]
  },
  {
   "cell_type": "code",
   "execution_count": null,
   "metadata": {},
   "outputs": [],
   "source": [
    "len(sp_data)"
   ]
  },
  {
   "cell_type": "code",
   "execution_count": null,
   "metadata": {},
   "outputs": [],
   "source": [
    "sp_data = clean_data['sp'].parallel_apply(pd.Series)"
   ]
  },
  {
   "cell_type": "code",
   "execution_count": null,
   "metadata": {},
   "outputs": [],
   "source": [
    "#time1 = time.time()\n",
    "#raw_data = (raw_data.pipe(lambda df: df.join(, rsuffix='_sp'))\n",
    "#                .drop(columns=['sp']))\n",
    "#print(time.time() - tim"
   ]
  },
  {
   "cell_type": "code",
   "execution_count": null,
   "metadata": {},
   "outputs": [],
   "source": [
    "#              \"id_sp\": \"species_id\",\n",
    "#              \"nome\": \"scientific_species_name\",\n",
    "#              \"nvt\": \"popular_species_name\",\n",
    "#              \"idwiki\": \"species_wiki_slug\"\n",
    "\n",
    "#                  .assign(id_sp=lambda df: pd.to_numeric(df['id_sp']))\n",
    "#                  .assign(nome=lambda df: pd.Categorical(df['nome']))\n",
    "#                  .assign(nvt=lambda df: pd.Categorical(df['nvt']))\n",
    "#                  .assign(idwiki=lambda df: pd.Categorical(df['idwiki']))"
   ]
  },
  {
   "cell_type": "code",
   "execution_count": null,
   "metadata": {},
   "outputs": [],
   "source": []
  },
  {
   "cell_type": "code",
   "execution_count": 6,
   "metadata": {
    "colab": {
     "base_uri": "https://localhost:8080/",
     "height": 340
    },
    "colab_type": "code",
    "id": "kxHNt9Yzocd1",
    "outputId": "cff79be8-f70d-49c3-ef19-190e40f54ca1"
   },
   "outputs": [
    {
     "data": {
      "text/plain": [
       "author_id                    int64\n",
       "author_name               category\n",
       "comment_count                int64\n",
       "registry_date       datetime64[ns]\n",
       "is_large                      bool\n",
       "registry_id                  int64\n",
       "location_id                float64\n",
       "is_flagged                    bool\n",
       "like_count                   int64\n",
       "registry_link               object\n",
       "location_name             category\n",
       "profile_name              category\n",
       "sp                          object\n",
       "views_count                  int64\n",
       "home_location_id           float64\n",
       "dtype: object"
      ]
     },
     "execution_count": 6,
     "metadata": {},
     "output_type": "execute_result"
    }
   ],
   "source": [
    "clean_data.dtypes"
   ]
  },
  {
   "cell_type": "code",
   "execution_count": null,
   "metadata": {
    "colab": {},
    "colab_type": "code",
    "id": "bLwQW2M5oy6d"
   },
   "outputs": [],
   "source": [
    "clean_data.to_feather(clean_data_path)"
   ]
  },
  {
   "cell_type": "code",
   "execution_count": null,
   "metadata": {
    "colab": {},
    "colab_type": "code",
    "id": "Ir5k5yLmoy4N"
   },
   "outputs": [],
   "source": [
    "clean_data = pd.read_feather(clean_data_path)"
   ]
  },
  {
   "cell_type": "code",
   "execution_count": null,
   "metadata": {
    "colab": {
     "base_uri": "https://localhost:8080/",
     "height": 163
    },
    "colab_type": "code",
    "id": "hFO7WXBnQEbi",
    "outputId": "1b8728bc-2892-43d4-fd1c-5a69fb00e413"
   },
   "outputs": [],
   "source": [
    "clean_data.dtypes"
   ]
  },
  {
   "cell_type": "code",
   "execution_count": null,
   "metadata": {},
   "outputs": [],
   "source": []
  }
 ],
 "metadata": {
  "colab": {
   "name": "wikiaves_authors_analysis.ipynb",
   "provenance": [],
   "version": "0.3.2"
  },
  "kernelspec": {
   "display_name": "Python 3",
   "language": "python",
   "name": "python3"
  },
  "language_info": {
   "codemirror_mode": {
    "name": "ipython",
    "version": 3
   },
   "file_extension": ".py",
   "mimetype": "text/x-python",
   "name": "python",
   "nbconvert_exporter": "python",
   "pygments_lexer": "ipython3",
   "version": "3.7.3"
  }
 },
 "nbformat": 4,
 "nbformat_minor": 1
}
